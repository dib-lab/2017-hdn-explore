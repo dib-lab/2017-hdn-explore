{
 "cells": [
  {
   "cell_type": "markdown",
   "metadata": {},
   "source": [
    "# Detecting strain variation by looking at high-degree nodes within reads\n",
    "\n",
    "To generate output:\n",
    "\n",
    "```\n",
    "load-graph.py akker-reads.ng akker-reads.abundtrim.gz -M 1e9 -k 31 --no-build-tagset\n",
    "./measure-reads.py akker-reads.ng ../akker-reads.abundtrim.gz\n",
    "\n",
    "load-graph.py shew-reads.ng shewanella.abundtrim.gz -M 1e9 -k 31 --no-build-tagset\n",
    "./measure-reads.py shew-reads.ng ../shewanella.abundtrim.gz \n",
    "```\n",
    "\n",
    "(see [cats-in-practice-pipeline Makefile](https://github.com/spacegraphcats/cats-in-practice-pipeline/blob/master/Makefile) for origin of reads files w/trimming parameters, etc.)"
   ]
  },
  {
   "cell_type": "code",
   "execution_count": 1,
   "metadata": {
    "collapsed": false
   },
   "outputs": [
    {
     "name": "stdout",
     "output_type": "stream",
     "text": [
      "akker-reads.hdn.csv     hdn.ipynb               shew-reads.ng.hdn.csv\r\n",
      "akker-reads.ng          \u001b[31mmeasure-reads.py\u001b[m\u001b[m*       shew-reads.ng.info\r\n",
      "akker-reads.ng.hdn.csv  shew-reads.hdn.csv\r\n",
      "akker-reads.ng.info     shew-reads.ng\r\n"
     ]
    }
   ],
   "source": [
    "ls"
   ]
  },
  {
   "cell_type": "code",
   "execution_count": 2,
   "metadata": {
    "collapsed": false
   },
   "outputs": [
    {
     "name": "stdout",
     "output_type": "stream",
     "text": [
      "hdn_count,n_reads\r\n",
      "0,754975\r\n",
      "1,118836\r\n",
      "2,21060\r\n",
      "3,4871\r\n",
      "4,1415\r\n",
      "5,491\r\n",
      "6,206\r\n",
      "7,63\r\n",
      "8,38\r\n"
     ]
    }
   ],
   "source": [
    "!head akker-reads.hdn.csv\n"
   ]
  },
  {
   "cell_type": "code",
   "execution_count": 3,
   "metadata": {
    "collapsed": false
   },
   "outputs": [],
   "source": [
    "import csv\n",
    "import numpy\n",
    "\n",
    "def read_hdn(filename):\n",
    "    x = []\n",
    "    with open(filename) as fp:\n",
    "        r = csv.DictReader(fp)\n",
    "        for row in r:\n",
    "            x.append((int(row['hdn_count']), int(row['n_reads'])))\n",
    "    return numpy.array(x)"
   ]
  },
  {
   "cell_type": "code",
   "execution_count": 4,
   "metadata": {
    "collapsed": false
   },
   "outputs": [],
   "source": [
    "akker = read_hdn('akker-reads.hdn.csv')\n",
    "shew = read_hdn('shew-reads.hdn.csv')"
   ]
  },
  {
   "cell_type": "code",
   "execution_count": 5,
   "metadata": {
    "collapsed": true
   },
   "outputs": [],
   "source": [
    "%matplotlib inline\n",
    "from matplotlib import pyplot"
   ]
  },
  {
   "cell_type": "code",
   "execution_count": 6,
   "metadata": {
    "collapsed": false
   },
   "outputs": [
    {
     "data": {
      "text/plain": [
       "(0.0, 10, 0.0, 800000.0)"
      ]
     },
     "execution_count": 6,
     "metadata": {},
     "output_type": "execute_result"
    },
    {
     "data": {
      "image/png": "[encoded data removed]",
      "text/plain": [
       "<matplotlib.figure.Figure at 0x105454978>"
      ]
     },
     "metadata": {},
     "output_type": "display_data"
    }
   ],
   "source": [
    "pyplot.plot(akker, 'r-', label='akkermansia (no strain)')\n",
    "pyplot.plot(shew, 'g-', label='shewanella (two strains)')\n",
    "pyplot.legend(loc='upper right')\n",
    "pyplot.xlabel('number of high-degree nodes')\n",
    "pyplot.ylabel('number of reads with that many hdn')\n",
    "pyplot.axis(xmax=10)"
   ]
  },
  {
   "cell_type": "code",
   "execution_count": null,
   "metadata": {
    "collapsed": true
   },
   "outputs": [],
   "source": []
  }
 ],
 "metadata": {
  "kernelspec": {
   "display_name": "Python 3",
   "language": "python",
   "name": "python3"
  },
  "language_info": {
   "codemirror_mode": {
    "name": "ipython",
    "version": 3
   },
   "file_extension": ".py",
   "mimetype": "text/x-python",
   "name": "python",
   "nbconvert_exporter": "python",
   "pygments_lexer": "ipython3",
   "version": "3.5.1"
  }
 },
 "nbformat": 4,
 "nbformat_minor": 0
}
