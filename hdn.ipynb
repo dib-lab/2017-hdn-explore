{
 "cells": [
  {
   "cell_type": "markdown",
   "metadata": {},
   "source": [
    "# Detecting strain variation by looking at high-degree nodes within reads\n",
    "\n",
    "To generate output:\n",
    "\n",
    "```\n",
    "load-graph.py akker-reads.ng akker-reads.abundtrim.gz -M 1e9 -k 31 --no-build-tagset\n",
    "./measure-reads.py akker-reads.ng ../akker-reads.abundtrim.gz\n",
    "\n",
    "load-graph.py shew-reads.ng shewanella.abundtrim.gz -M 1e9 -k 31 --no-build-tagset\n",
    "./measure-reads.py shew-reads.ng ../shewanella.abundtrim.gz \n",
    "```\n",
    "\n",
    "(see [cats-in-practice-pipeline Makefile](https://github.com/spacegraphcats/cats-in-practice-pipeline/blob/master/Makefile) for origin of reads files w/trimming parameters, etc.)"
   ]
  },
  {
   "cell_type": "code",
   "execution_count": 1,
   "metadata": {
    "collapsed": false
   },
   "outputs": [
    {
     "name": "stdout",
     "output_type": "stream",
     "text": [
      "akker-reads.ng.hdn.csv  hdn.ipynb               shew-reads.ng.hdn.csv\r\n",
      "akker-reads.ng.info     \u001b[31mhdn.sh\u001b[m\u001b[m*                 shew-reads.ng.info\r\n",
      "\u001b[34mdata\u001b[m\u001b[m/                   \u001b[31mmeasure-reads.py\u001b[m\u001b[m*\r\n"
     ]
    }
   ],
   "source": [
    "ls"
   ]
  },
  {
   "cell_type": "code",
   "execution_count": 2,
   "metadata": {
    "collapsed": false
   },
   "outputs": [
    {
     "name": "stdout",
     "output_type": "stream",
     "text": [
      "head: akker-reads.hdn.csv: No such file or directory\r\n"
     ]
    }
   ],
   "source": [
    "!head akker-reads.hdn.csv\n"
   ]
  },
  {
   "cell_type": "code",
   "execution_count": 3,
   "metadata": {
    "collapsed": false
   },
   "outputs": [],
   "source": [
    "import csv\n",
    "import numpy\n",
    "\n",
    "def read_hdn(filename):\n",
    "    x = []\n",
    "    with open(filename) as fp:\n",
    "        r = csv.DictReader(fp)\n",
    "        for row in r:\n",
    "            x.append((int(row['hdn_count']), int(row['n_reads'])))\n",
    "    return numpy.array(x)"
   ]
  },
  {
   "cell_type": "code",
   "execution_count": 4,
   "metadata": {
    "collapsed": false
   },
   "outputs": [],
   "source": [
    "akker = read_hdn('akker-reads.ng.hdn.csv')\n",
    "shew = read_hdn('shew-reads.ng.hdn.csv')"
   ]
  },
  {
   "cell_type": "code",
   "execution_count": 5,
   "metadata": {
    "collapsed": true
   },
   "outputs": [],
   "source": [
    "%matplotlib inline\n",
    "from matplotlib import pyplot"
   ]
  },
  {
   "cell_type": "code",
   "execution_count": 6,
   "metadata": {
    "collapsed": false
   },
   "outputs": [
    {
     "data": {
      "text/plain": [
       "(0.0, 10, 0.0, 900000.0)"
      ]
     },
     "execution_count": 6,
     "metadata": {},
     "output_type": "execute_result"
    },
    {
     "data": {
      "image/png": "[encoded data removed]",
      "text/plain": [
       "<matplotlib.figure.Figure at 0x105443240>"
      ]
     },
     "metadata": {},
     "output_type": "display_data"
    }
   ],
   "source": [
    "pyplot.plot(akker, 'r-', label='akkermansia (no strain)')\n",
    "pyplot.plot(shew, 'g-', label='shewanella (two strains)')\n",
    "pyplot.legend(loc='upper right')\n",
    "pyplot.xlabel('number of high-degree nodes')\n",
    "pyplot.ylabel('number of reads with that many hdn')\n",
    "pyplot.axis(xmax=10)"
   ]
  },
  {
   "cell_type": "markdown",
   "metadata": {
    "collapsed": true
   },
   "source": [
    "# Looking at the podar data set "
   ]
  },
  {
   "cell_type": "code",
   "execution_count": 7,
   "metadata": {
    "collapsed": false
   },
   "outputs": [],
   "source": [
    "# load in the CSVs\n",
    "import glob\n",
    "\n",
    "hdn_csvs = {}\n",
    "for n in range(0, 64):\n",
    "    filename = 'data/{}.fa.ng.hdn.csv'.format(n)\n",
    "    hdn_csvs[n] = read_hdn(filename)\n"
   ]
  },
  {
   "cell_type": "code",
   "execution_count": 8,
   "metadata": {
    "collapsed": true
   },
   "outputs": [],
   "source": [
    "# load in the minhash signatures\n",
    "sigs = {}\n",
    "names = {}\n",
    "\n",
    "from sourmash_lib import signature\n",
    "KSIZE=21\n",
    "for n in range(0, 64):\n",
    "    filename = 'data/{}.fa.sig'.format(n)\n",
    "    sig = signature.load_one_signature(filename, select_ksize=KSIZE)\n",
    "    sigs[n] = sig\n",
    "    names[n] = sig.name()"
   ]
  },
  {
   "cell_type": "code",
   "execution_count": 9,
   "metadata": {
    "collapsed": false
   },
   "outputs": [],
   "source": [
    "# look at the ratios of 0-hdn to 1-hdn - lower ratio => more strain variation?\n",
    "\n",
    "ratios = []\n",
    "for k,v in hdn_csvs.items():\n",
    "    r = v[0][1] / v[1][1]\n",
    "    ratios.append(r)"
   ]
  },
  {
   "cell_type": "code",
   "execution_count": 10,
   "metadata": {
    "collapsed": false
   },
   "outputs": [
    {
     "data": {
      "text/plain": [
       "(array([  9.,   6.,  14.,  11.,   7.,   7.,   5.,   1.,   2.,   2.]),\n",
       " array([  0.68197855,   4.27318445,   7.86439035,  11.45559625,\n",
       "         15.04680215,  18.63800804,  22.22921394,  25.82041984,\n",
       "         29.41162574,  33.00283164,  36.59403754]),\n",
       " <a list of 10 Patch objects>)"
      ]
     },
     "execution_count": 10,
     "metadata": {},
     "output_type": "execute_result"
    },
    {
     "data": {
      "image/png": "[encoded data removed]",
      "text/plain": [
       "<matplotlib.figure.Figure at 0x1056e39b0>"
      ]
     },
     "metadata": {},
     "output_type": "display_data"
    }
   ],
   "source": [
    "# histogram of HDN_01\n",
    "ratios.sort()\n",
    "pyplot.hist(ratios)"
   ]
  },
  {
   "cell_type": "code",
   "execution_count": 11,
   "metadata": {
    "collapsed": false
   },
   "outputs": [
    {
     "name": "stdout",
     "output_type": "stream",
     "text": [
      "ratio=1.405891075319909, num=47, name=CP000753.1 Shewanella baltica OS185, com\n",
      "ratio=1.2936867769518807, num=48, name=NC_010730.1 Sulfurihydrogenibium sp. YO3\n",
      "ratio=0.6819785478213265, num=49, name=NZ_ABZS01000228.1 Sulfurihydrogenibium y\n",
      "ratio=3.027725724126432, num=52, name=CP000702.1 Thermotoga petrophila RKU-1, \n",
      "ratio=3.236918521426877, num=53, name=CP000969.1 Thermotoga sp. RQ2, complete \n",
      "ratio=0.73476003348998, num=59, name=NZ_CH959311.1 Sulfitobacter sp. EE-36 sc\n",
      "ratio=1.0053016175543028, num=60, name=NZ_CH959317.1 Sulfitobacter sp. NAS-14.1\n",
      "ratio=1.2644029012497755, num=63, name=CP001252.1 Shewanella baltica OS223, com\n"
     ]
    }
   ],
   "source": [
    "# high strain variation genomes based on HDN_01 ratio:\n",
    "for k,v in hdn_csvs.items():\n",
    "    r = v[0][1] / v[1][1]\n",
    "    if r < 4.0:\n",
    "        print('ratio={}, num={}, name={}'.format(r, k, names[k][:40]))\n",
    "    "
   ]
  },
  {
   "cell_type": "code",
   "execution_count": 12,
   "metadata": {
    "collapsed": false
   },
   "outputs": [
    {
     "name": "stdout",
     "output_type": "stream",
     "text": [
      "sim=0.38144329896907214\n",
      "\tCP000753.1 Shewanella baltica OS185, complete genome\n",
      "\tCP001252.1 Shewanella baltica OS223, complete genome\n",
      "sim=0.19047619047619047\n",
      "\tNC_010730.1 Sulfurihydrogenibium sp. YO3AOP1, complete genome\n",
      "\tNZ_ABZS01000228.1 Sulfurihydrogenibium yellowstonense SS-5 gcontig_18, whole genome shotgun sequence\n",
      "sim=0.45703125\n",
      "\tCP000702.1 Thermotoga petrophila RKU-1, complete genome\n",
      "\tCP000969.1 Thermotoga sp. RQ2, complete genome\n",
      "sim=0.3800738007380074\n",
      "\tNZ_CH959311.1 Sulfitobacter sp. EE-36 scf_1099451318005, whole genome shotgun sequence\n",
      "\tNZ_CH959317.1 Sulfitobacter sp. NAS-14.1 scf_1099451320472, whole genome shotgun sequence\n"
     ]
    }
   ],
   "source": [
    "# high similarity genomes based on minhash similarity\n",
    "for k1 in sigs:\n",
    "    for k2 in sigs:\n",
    "        if k1 < k2 and sigs[k1].similarity(sigs[k2]) > 0.1:\n",
    "            print(\"sim={}\\n\\t{}\\n\\t{}\".format(sigs[k1].similarity(sigs[k2]), names[k1], names[k2]))"
   ]
  },
  {
   "cell_type": "markdown",
   "metadata": {},
   "source": [
    "## conclusions\n",
    "\n",
    "Well, this certainly seems like a suspiciously nice set of correlations - low HDN_01 measure (assembly free) also has high minhash similarity at genomic level (assembly based)"
   ]
  },
  {
   "cell_type": "code",
   "execution_count": null,
   "metadata": {
    "collapsed": true
   },
   "outputs": [],
   "source": []
  }
 ],
 "metadata": {
  "kernelspec": {
   "display_name": "Python 3",
   "language": "python",
   "name": "python3"
  },
  "language_info": {
   "codemirror_mode": {
    "name": "ipython",
    "version": 3
   },
   "file_extension": ".py",
   "mimetype": "text/x-python",
   "name": "python",
   "nbconvert_exporter": "python",
   "pygments_lexer": "ipython3",
   "version": "3.5.1"
  }
 },
 "nbformat": 4,
 "nbformat_minor": 0
}
